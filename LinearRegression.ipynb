{
 "cells": [
  {
   "cell_type": "code",
   "execution_count": 54,
   "metadata": {},
   "outputs": [],
   "source": [
    "import numpy as np\n",
    "import sklearn\n",
    "from sklearn.model_selection import train_test_split\n",
    "import pandas as pd\n",
    "import matplotlib.pyplot as plt\n",
    "from sklearn.linear_model import LinearRegression\n",
    "from sklearn import linear_model"
   ]
  },
  {
   "cell_type": "code",
   "execution_count": 55,
   "metadata": {},
   "outputs": [],
   "source": [
    "data=pd.read_csv('data.csv')"
   ]
  },
  {
   "cell_type": "code",
   "execution_count": 56,
   "metadata": {
    "scrolled": true
   },
   "outputs": [
    {
     "data": {
      "text/html": [
       "<div>\n",
       "<style scoped>\n",
       "    .dataframe tbody tr th:only-of-type {\n",
       "        vertical-align: middle;\n",
       "    }\n",
       "\n",
       "    .dataframe tbody tr th {\n",
       "        vertical-align: top;\n",
       "    }\n",
       "\n",
       "    .dataframe thead th {\n",
       "        text-align: right;\n",
       "    }\n",
       "</style>\n",
       "<table border=\"1\" class=\"dataframe\">\n",
       "  <thead>\n",
       "    <tr style=\"text-align: right;\">\n",
       "      <th></th>\n",
       "      <th>Location</th>\n",
       "      <th>Latitude</th>\n",
       "      <th>Longitude</th>\n",
       "      <th>Elevation</th>\n",
       "      <th>Skycover</th>\n",
       "      <th>Orientation</th>\n",
       "      <th>Tilt</th>\n",
       "      <th>ACenergyPerYear</th>\n",
       "      <th>img</th>\n",
       "    </tr>\n",
       "  </thead>\n",
       "  <tbody>\n",
       "    <tr>\n",
       "      <th>0</th>\n",
       "      <td>Ardabil</td>\n",
       "      <td>38.317</td>\n",
       "      <td>48.417</td>\n",
       "      <td>1332.0</td>\n",
       "      <td>6.031665</td>\n",
       "      <td>-45</td>\n",
       "      <td>0</td>\n",
       "      <td>267.981217</td>\n",
       "      <td>LocationArdabilAP_AR_IRN_Latitude38.317_Longit...</td>\n",
       "    </tr>\n",
       "    <tr>\n",
       "      <th>1</th>\n",
       "      <td>Ardabil</td>\n",
       "      <td>38.317</td>\n",
       "      <td>48.417</td>\n",
       "      <td>1332.0</td>\n",
       "      <td>6.031665</td>\n",
       "      <td>-35</td>\n",
       "      <td>0</td>\n",
       "      <td>289.396595</td>\n",
       "      <td>LocationArdabilAP_AR_IRN_Latitude38.317_Longit...</td>\n",
       "    </tr>\n",
       "    <tr>\n",
       "      <th>2</th>\n",
       "      <td>Ardabil</td>\n",
       "      <td>38.317</td>\n",
       "      <td>48.417</td>\n",
       "      <td>1332.0</td>\n",
       "      <td>6.031665</td>\n",
       "      <td>-25</td>\n",
       "      <td>0</td>\n",
       "      <td>309.203211</td>\n",
       "      <td>LocationArdabilAP_AR_IRN_Latitude38.317_Longit...</td>\n",
       "    </tr>\n",
       "    <tr>\n",
       "      <th>3</th>\n",
       "      <td>Ardabil</td>\n",
       "      <td>38.317</td>\n",
       "      <td>48.417</td>\n",
       "      <td>1332.0</td>\n",
       "      <td>6.031665</td>\n",
       "      <td>-15</td>\n",
       "      <td>0</td>\n",
       "      <td>324.975573</td>\n",
       "      <td>LocationArdabilAP_AR_IRN_Latitude38.317_Longit...</td>\n",
       "    </tr>\n",
       "    <tr>\n",
       "      <th>4</th>\n",
       "      <td>Ardabil</td>\n",
       "      <td>38.317</td>\n",
       "      <td>48.417</td>\n",
       "      <td>1332.0</td>\n",
       "      <td>6.031665</td>\n",
       "      <td>-5</td>\n",
       "      <td>0</td>\n",
       "      <td>334.305725</td>\n",
       "      <td>LocationArdabilAP_AR_IRN_Latitude38.317_Longit...</td>\n",
       "    </tr>\n",
       "  </tbody>\n",
       "</table>\n",
       "</div>"
      ],
      "text/plain": [
       "  Location  Latitude  Longitude  Elevation  Skycover  Orientation  Tilt  \\\n",
       "0  Ardabil    38.317     48.417     1332.0  6.031665          -45     0   \n",
       "1  Ardabil    38.317     48.417     1332.0  6.031665          -35     0   \n",
       "2  Ardabil    38.317     48.417     1332.0  6.031665          -25     0   \n",
       "3  Ardabil    38.317     48.417     1332.0  6.031665          -15     0   \n",
       "4  Ardabil    38.317     48.417     1332.0  6.031665           -5     0   \n",
       "\n",
       "   ACenergyPerYear                                                img  \n",
       "0       267.981217  LocationArdabilAP_AR_IRN_Latitude38.317_Longit...  \n",
       "1       289.396595  LocationArdabilAP_AR_IRN_Latitude38.317_Longit...  \n",
       "2       309.203211  LocationArdabilAP_AR_IRN_Latitude38.317_Longit...  \n",
       "3       324.975573  LocationArdabilAP_AR_IRN_Latitude38.317_Longit...  \n",
       "4       334.305725  LocationArdabilAP_AR_IRN_Latitude38.317_Longit...  "
      ]
     },
     "execution_count": 56,
     "metadata": {},
     "output_type": "execute_result"
    }
   ],
   "source": [
    "data.head()"
   ]
  },
  {
   "cell_type": "code",
   "execution_count": 57,
   "metadata": {},
   "outputs": [],
   "source": [
    "data=data[['Latitude','Longitude','Elevation','Skycover','Orientation','Tilt','ACenergyPerYear']]"
   ]
  },
  {
   "cell_type": "code",
   "execution_count": null,
   "metadata": {},
   "outputs": [],
   "source": []
  },
  {
   "cell_type": "code",
   "execution_count": 58,
   "metadata": {},
   "outputs": [
    {
     "data": {
      "text/html": [
       "<div>\n",
       "<style scoped>\n",
       "    .dataframe tbody tr th:only-of-type {\n",
       "        vertical-align: middle;\n",
       "    }\n",
       "\n",
       "    .dataframe tbody tr th {\n",
       "        vertical-align: top;\n",
       "    }\n",
       "\n",
       "    .dataframe thead th {\n",
       "        text-align: right;\n",
       "    }\n",
       "</style>\n",
       "<table border=\"1\" class=\"dataframe\">\n",
       "  <thead>\n",
       "    <tr style=\"text-align: right;\">\n",
       "      <th></th>\n",
       "      <th>Latitude</th>\n",
       "      <th>Longitude</th>\n",
       "      <th>Elevation</th>\n",
       "      <th>Skycover</th>\n",
       "      <th>Orientation</th>\n",
       "      <th>Tilt</th>\n",
       "      <th>ACenergyPerYear</th>\n",
       "    </tr>\n",
       "  </thead>\n",
       "  <tbody>\n",
       "    <tr>\n",
       "      <th>0</th>\n",
       "      <td>38.317</td>\n",
       "      <td>48.417</td>\n",
       "      <td>1332.0</td>\n",
       "      <td>6.031665</td>\n",
       "      <td>-45</td>\n",
       "      <td>0</td>\n",
       "      <td>267.981217</td>\n",
       "    </tr>\n",
       "    <tr>\n",
       "      <th>1</th>\n",
       "      <td>38.317</td>\n",
       "      <td>48.417</td>\n",
       "      <td>1332.0</td>\n",
       "      <td>6.031665</td>\n",
       "      <td>-35</td>\n",
       "      <td>0</td>\n",
       "      <td>289.396595</td>\n",
       "    </tr>\n",
       "    <tr>\n",
       "      <th>2</th>\n",
       "      <td>38.317</td>\n",
       "      <td>48.417</td>\n",
       "      <td>1332.0</td>\n",
       "      <td>6.031665</td>\n",
       "      <td>-25</td>\n",
       "      <td>0</td>\n",
       "      <td>309.203211</td>\n",
       "    </tr>\n",
       "    <tr>\n",
       "      <th>3</th>\n",
       "      <td>38.317</td>\n",
       "      <td>48.417</td>\n",
       "      <td>1332.0</td>\n",
       "      <td>6.031665</td>\n",
       "      <td>-15</td>\n",
       "      <td>0</td>\n",
       "      <td>324.975573</td>\n",
       "    </tr>\n",
       "    <tr>\n",
       "      <th>4</th>\n",
       "      <td>38.317</td>\n",
       "      <td>48.417</td>\n",
       "      <td>1332.0</td>\n",
       "      <td>6.031665</td>\n",
       "      <td>-5</td>\n",
       "      <td>0</td>\n",
       "      <td>334.305725</td>\n",
       "    </tr>\n",
       "  </tbody>\n",
       "</table>\n",
       "</div>"
      ],
      "text/plain": [
       "   Latitude  Longitude  Elevation  Skycover  Orientation  Tilt  \\\n",
       "0    38.317     48.417     1332.0  6.031665          -45     0   \n",
       "1    38.317     48.417     1332.0  6.031665          -35     0   \n",
       "2    38.317     48.417     1332.0  6.031665          -25     0   \n",
       "3    38.317     48.417     1332.0  6.031665          -15     0   \n",
       "4    38.317     48.417     1332.0  6.031665           -5     0   \n",
       "\n",
       "   ACenergyPerYear  \n",
       "0       267.981217  \n",
       "1       289.396595  \n",
       "2       309.203211  \n",
       "3       324.975573  \n",
       "4       334.305725  "
      ]
     },
     "execution_count": 58,
     "metadata": {},
     "output_type": "execute_result"
    }
   ],
   "source": [
    "data.head()"
   ]
  },
  {
   "cell_type": "code",
   "execution_count": 105,
   "metadata": {},
   "outputs": [],
   "source": [
    "predict='ACenergyPerYear'"
   ]
  },
  {
   "cell_type": "code",
   "execution_count": 106,
   "metadata": {},
   "outputs": [],
   "source": [
    "X=np.array(data.drop([predict],1))"
   ]
  },
  {
   "cell_type": "code",
   "execution_count": 107,
   "metadata": {},
   "outputs": [],
   "source": [
    "y=np.array(data[predict])"
   ]
  },
  {
   "cell_type": "code",
   "execution_count": 144,
   "metadata": {},
   "outputs": [],
   "source": [
    "acc1=0\n",
    "for i in range(1000):\n",
    "    X_train,X_test,y_train,y_test=sklearn.model_selection.train_test_split(X,y,test_size=0.2)\n",
    "    linear=linear_model.LinearRegression()\n",
    "    linear.fit(X_test,y_test)\n",
    "    acc=linear.score(X_test,y_test)\n",
    "    if acc>acc1:\n",
    "        acc1=acc\n",
    "    "
   ]
  },
  {
   "cell_type": "code",
   "execution_count": 145,
   "metadata": {},
   "outputs": [
    {
     "data": {
      "text/plain": [
       "0.7165279207481191"
      ]
     },
     "execution_count": 145,
     "metadata": {},
     "output_type": "execute_result"
    }
   ],
   "source": [
    "acc1"
   ]
  },
  {
   "cell_type": "code",
   "execution_count": null,
   "metadata": {},
   "outputs": [],
   "source": []
  }
 ],
 "metadata": {
  "kernelspec": {
   "display_name": "Python 3",
   "language": "python",
   "name": "python3"
  },
  "language_info": {
   "codemirror_mode": {
    "name": "ipython",
    "version": 3
   },
   "file_extension": ".py",
   "mimetype": "text/x-python",
   "name": "python",
   "nbconvert_exporter": "python",
   "pygments_lexer": "ipython3",
   "version": "3.8.5"
  }
 },
 "nbformat": 4,
 "nbformat_minor": 4
}
