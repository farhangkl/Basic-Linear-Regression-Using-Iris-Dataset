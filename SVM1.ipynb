{
 "cells": [
  {
   "cell_type": "code",
   "execution_count": 14,
   "metadata": {},
   "outputs": [],
   "source": [
    "import pandas as pd\n",
    "import matplotlib.pyplot as plt"
   ]
  },
  {
   "cell_type": "code",
   "execution_count": 15,
   "metadata": {},
   "outputs": [],
   "source": [
    "data=pd.read_csv('data.csv')"
   ]
  },
  {
   "cell_type": "code",
   "execution_count": 16,
   "metadata": {},
   "outputs": [],
   "source": [
    "data=data.drop(['Location','img'],1)"
   ]
  },
  {
   "cell_type": "code",
   "execution_count": 17,
   "metadata": {},
   "outputs": [],
   "source": [
    "data1=data.describe()"
   ]
  },
  {
   "cell_type": "code",
   "execution_count": 39,
   "metadata": {},
   "outputs": [
    {
     "data": {
      "text/html": [
       "<div>\n",
       "<style scoped>\n",
       "    .dataframe tbody tr th:only-of-type {\n",
       "        vertical-align: middle;\n",
       "    }\n",
       "\n",
       "    .dataframe tbody tr th {\n",
       "        vertical-align: top;\n",
       "    }\n",
       "\n",
       "    .dataframe thead th {\n",
       "        text-align: right;\n",
       "    }\n",
       "</style>\n",
       "<table border=\"1\" class=\"dataframe\">\n",
       "  <thead>\n",
       "    <tr style=\"text-align: right;\">\n",
       "      <th></th>\n",
       "      <th>Latitude</th>\n",
       "      <th>Longitude</th>\n",
       "      <th>Elevation</th>\n",
       "      <th>Skycover</th>\n",
       "      <th>Orientation</th>\n",
       "      <th>Tilt</th>\n",
       "      <th>ACenergyPerYear</th>\n",
       "    </tr>\n",
       "  </thead>\n",
       "  <tbody>\n",
       "    <tr>\n",
       "      <th>count</th>\n",
       "      <td>1000.000000</td>\n",
       "      <td>1000.000000</td>\n",
       "      <td>1000.000000</td>\n",
       "      <td>1000.000000</td>\n",
       "      <td>1000.000000</td>\n",
       "      <td>1000.000000</td>\n",
       "      <td>1000.000000</td>\n",
       "    </tr>\n",
       "    <tr>\n",
       "      <th>mean</th>\n",
       "      <td>33.004700</td>\n",
       "      <td>51.072400</td>\n",
       "      <td>1092.760000</td>\n",
       "      <td>3.508085</td>\n",
       "      <td>0.000000</td>\n",
       "      <td>45.000000</td>\n",
       "      <td>337.362954</td>\n",
       "    </tr>\n",
       "    <tr>\n",
       "      <th>std</th>\n",
       "      <td>3.851903</td>\n",
       "      <td>3.390699</td>\n",
       "      <td>740.292278</td>\n",
       "      <td>1.613040</td>\n",
       "      <td>28.737185</td>\n",
       "      <td>28.737185</td>\n",
       "      <td>60.023406</td>\n",
       "    </tr>\n",
       "    <tr>\n",
       "      <th>min</th>\n",
       "      <td>27.218000</td>\n",
       "      <td>46.235000</td>\n",
       "      <td>-12.200000</td>\n",
       "      <td>1.796619</td>\n",
       "      <td>-45.000000</td>\n",
       "      <td>0.000000</td>\n",
       "      <td>164.014553</td>\n",
       "    </tr>\n",
       "    <tr>\n",
       "      <th>25%</th>\n",
       "      <td>29.539000</td>\n",
       "      <td>48.417000</td>\n",
       "      <td>20.700000</td>\n",
       "      <td>2.335595</td>\n",
       "      <td>-25.000000</td>\n",
       "      <td>20.000000</td>\n",
       "      <td>293.097438</td>\n",
       "    </tr>\n",
       "    <tr>\n",
       "      <th>50%</th>\n",
       "      <td>32.524000</td>\n",
       "      <td>50.838500</td>\n",
       "      <td>1368.700000</td>\n",
       "      <td>3.050507</td>\n",
       "      <td>0.000000</td>\n",
       "      <td>45.000000</td>\n",
       "      <td>343.597690</td>\n",
       "    </tr>\n",
       "    <tr>\n",
       "      <th>75%</th>\n",
       "      <td>37.325000</td>\n",
       "      <td>52.589000</td>\n",
       "      <td>1545.900000</td>\n",
       "      <td>4.151495</td>\n",
       "      <td>25.000000</td>\n",
       "      <td>70.000000</td>\n",
       "      <td>385.784373</td>\n",
       "    </tr>\n",
       "    <tr>\n",
       "      <th>max</th>\n",
       "      <td>38.317000</td>\n",
       "      <td>56.951000</td>\n",
       "      <td>2049.200000</td>\n",
       "      <td>6.859957</td>\n",
       "      <td>45.000000</td>\n",
       "      <td>90.000000</td>\n",
       "      <td>446.683693</td>\n",
       "    </tr>\n",
       "  </tbody>\n",
       "</table>\n",
       "</div>"
      ],
      "text/plain": [
       "          Latitude    Longitude    Elevation     Skycover  Orientation  \\\n",
       "count  1000.000000  1000.000000  1000.000000  1000.000000  1000.000000   \n",
       "mean     33.004700    51.072400  1092.760000     3.508085     0.000000   \n",
       "std       3.851903     3.390699   740.292278     1.613040    28.737185   \n",
       "min      27.218000    46.235000   -12.200000     1.796619   -45.000000   \n",
       "25%      29.539000    48.417000    20.700000     2.335595   -25.000000   \n",
       "50%      32.524000    50.838500  1368.700000     3.050507     0.000000   \n",
       "75%      37.325000    52.589000  1545.900000     4.151495    25.000000   \n",
       "max      38.317000    56.951000  2049.200000     6.859957    45.000000   \n",
       "\n",
       "              Tilt  ACenergyPerYear  \n",
       "count  1000.000000      1000.000000  \n",
       "mean     45.000000       337.362954  \n",
       "std      28.737185        60.023406  \n",
       "min       0.000000       164.014553  \n",
       "25%      20.000000       293.097438  \n",
       "50%      45.000000       343.597690  \n",
       "75%      70.000000       385.784373  \n",
       "max      90.000000       446.683693  "
      ]
     },
     "execution_count": 39,
     "metadata": {},
     "output_type": "execute_result"
    }
   ],
   "source": [
    "data1"
   ]
  },
  {
   "cell_type": "code",
   "execution_count": 53,
   "metadata": {},
   "outputs": [],
   "source": [
    "data=pd.read_csv('data.csv')"
   ]
  },
  {
   "cell_type": "code",
   "execution_count": 58,
   "metadata": {},
   "outputs": [],
   "source": [
    "dataname=pd.Series(data['Location'])\n",
    "datalat=pd.Series(data['Latitude'])\n",
    "datalon=pd.Series(data['Longitude'])\n",
    "#print(dataloc)\n",
    "datalat=pd.DataFrame(datalat.unique())\n",
    "datalon=pd.DataFrame(datalon.unique())\n",
    "dataname=pd.DataFrame(dataname.unique())"
   ]
  },
  {
   "cell_type": "code",
   "execution_count": 70,
   "metadata": {},
   "outputs": [
    {
     "data": {
      "text/plain": [
       "<matplotlib.collections.PathCollection at 0x2118633ae80>"
      ]
     },
     "execution_count": 70,
     "metadata": {},
     "output_type": "execute_result"
    },
    {
     "data": {
      "image/png": "[encoded data removed]",
      "text/plain": [
       "<Figure size 432x288 with 1 Axes>"
      ]
     },
     "metadata": {
      "needs_background": "light"
     },
     "output_type": "display_data"
    }
   ],
   "source": [
    "x=datalat\n",
    "y=datalon\n",
    "dataname=['Ardabil','BandarBushehr','Shahrekord','Tabriz','Isfahan','Shiraz','Rasht','BandarAbass','Sanandaj','Kerman']\n",
    "colors=['red','blue','gray','green','black','yellow','brown','c','m','y']\n",
    "plt.title('Relation Between Lanitude and Longitude')\n",
    "plt.xlabel('Latitude')\n",
    "plt.ylabel('Longitude')\n",
    "plt.grid(color='grey', linestyle='-', linewidth=0.25, alpha=0.5)\n",
    "plt.legend(data['Location'])\n",
    "plt.scatter(x,y,color=colors)\n"
   ]
  },
  {
   "cell_type": "code",
   "execution_count": 73,
   "metadata": {},
   "outputs": [],
   "source": [
    "data=data.drop(['Location','img'],1)"
   ]
  },
  {
   "cell_type": "code",
   "execution_count": 74,
   "metadata": {},
   "outputs": [
    {
     "data": {
      "text/html": [
       "<div>\n",
       "<style scoped>\n",
       "    .dataframe tbody tr th:only-of-type {\n",
       "        vertical-align: middle;\n",
       "    }\n",
       "\n",
       "    .dataframe tbody tr th {\n",
       "        vertical-align: top;\n",
       "    }\n",
       "\n",
       "    .dataframe thead th {\n",
       "        text-align: right;\n",
       "    }\n",
       "</style>\n",
       "<table border=\"1\" class=\"dataframe\">\n",
       "  <thead>\n",
       "    <tr style=\"text-align: right;\">\n",
       "      <th></th>\n",
       "      <th>Latitude</th>\n",
       "      <th>Longitude</th>\n",
       "      <th>Elevation</th>\n",
       "      <th>Skycover</th>\n",
       "      <th>Orientation</th>\n",
       "      <th>Tilt</th>\n",
       "      <th>ACenergyPerYear</th>\n",
       "    </tr>\n",
       "  </thead>\n",
       "  <tbody>\n",
       "    <tr>\n",
       "      <th>0</th>\n",
       "      <td>38.317</td>\n",
       "      <td>48.417</td>\n",
       "      <td>1332.0</td>\n",
       "      <td>6.031665</td>\n",
       "      <td>-45</td>\n",
       "      <td>0</td>\n",
       "      <td>267.981217</td>\n",
       "    </tr>\n",
       "    <tr>\n",
       "      <th>1</th>\n",
       "      <td>38.317</td>\n",
       "      <td>48.417</td>\n",
       "      <td>1332.0</td>\n",
       "      <td>6.031665</td>\n",
       "      <td>-35</td>\n",
       "      <td>0</td>\n",
       "      <td>289.396595</td>\n",
       "    </tr>\n",
       "    <tr>\n",
       "      <th>2</th>\n",
       "      <td>38.317</td>\n",
       "      <td>48.417</td>\n",
       "      <td>1332.0</td>\n",
       "      <td>6.031665</td>\n",
       "      <td>-25</td>\n",
       "      <td>0</td>\n",
       "      <td>309.203211</td>\n",
       "    </tr>\n",
       "    <tr>\n",
       "      <th>3</th>\n",
       "      <td>38.317</td>\n",
       "      <td>48.417</td>\n",
       "      <td>1332.0</td>\n",
       "      <td>6.031665</td>\n",
       "      <td>-15</td>\n",
       "      <td>0</td>\n",
       "      <td>324.975573</td>\n",
       "    </tr>\n",
       "    <tr>\n",
       "      <th>4</th>\n",
       "      <td>38.317</td>\n",
       "      <td>48.417</td>\n",
       "      <td>1332.0</td>\n",
       "      <td>6.031665</td>\n",
       "      <td>-5</td>\n",
       "      <td>0</td>\n",
       "      <td>334.305725</td>\n",
       "    </tr>\n",
       "    <tr>\n",
       "      <th>...</th>\n",
       "      <td>...</td>\n",
       "      <td>...</td>\n",
       "      <td>...</td>\n",
       "      <td>...</td>\n",
       "      <td>...</td>\n",
       "      <td>...</td>\n",
       "      <td>...</td>\n",
       "    </tr>\n",
       "    <tr>\n",
       "      <th>995</th>\n",
       "      <td>30.274</td>\n",
       "      <td>56.951</td>\n",
       "      <td>1748.3</td>\n",
       "      <td>2.498567</td>\n",
       "      <td>-5</td>\n",
       "      <td>90</td>\n",
       "      <td>260.118802</td>\n",
       "    </tr>\n",
       "    <tr>\n",
       "      <th>996</th>\n",
       "      <td>30.274</td>\n",
       "      <td>56.951</td>\n",
       "      <td>1748.3</td>\n",
       "      <td>2.498567</td>\n",
       "      <td>5</td>\n",
       "      <td>90</td>\n",
       "      <td>258.581072</td>\n",
       "    </tr>\n",
       "    <tr>\n",
       "      <th>997</th>\n",
       "      <td>30.274</td>\n",
       "      <td>56.951</td>\n",
       "      <td>1748.3</td>\n",
       "      <td>2.498567</td>\n",
       "      <td>15</td>\n",
       "      <td>90</td>\n",
       "      <td>258.087367</td>\n",
       "    </tr>\n",
       "    <tr>\n",
       "      <th>998</th>\n",
       "      <td>30.274</td>\n",
       "      <td>56.951</td>\n",
       "      <td>1748.3</td>\n",
       "      <td>2.498567</td>\n",
       "      <td>25</td>\n",
       "      <td>90</td>\n",
       "      <td>254.746498</td>\n",
       "    </tr>\n",
       "    <tr>\n",
       "      <th>999</th>\n",
       "      <td>30.274</td>\n",
       "      <td>56.951</td>\n",
       "      <td>1748.3</td>\n",
       "      <td>2.498567</td>\n",
       "      <td>35</td>\n",
       "      <td>90</td>\n",
       "      <td>250.543854</td>\n",
       "    </tr>\n",
       "  </tbody>\n",
       "</table>\n",
       "<p>1000 rows × 7 columns</p>\n",
       "</div>"
      ],
      "text/plain": [
       "     Latitude  Longitude  Elevation  Skycover  Orientation  Tilt  \\\n",
       "0      38.317     48.417     1332.0  6.031665          -45     0   \n",
       "1      38.317     48.417     1332.0  6.031665          -35     0   \n",
       "2      38.317     48.417     1332.0  6.031665          -25     0   \n",
       "3      38.317     48.417     1332.0  6.031665          -15     0   \n",
       "4      38.317     48.417     1332.0  6.031665           -5     0   \n",
       "..        ...        ...        ...       ...          ...   ...   \n",
       "995    30.274     56.951     1748.3  2.498567           -5    90   \n",
       "996    30.274     56.951     1748.3  2.498567            5    90   \n",
       "997    30.274     56.951     1748.3  2.498567           15    90   \n",
       "998    30.274     56.951     1748.3  2.498567           25    90   \n",
       "999    30.274     56.951     1748.3  2.498567           35    90   \n",
       "\n",
       "     ACenergyPerYear  \n",
       "0         267.981217  \n",
       "1         289.396595  \n",
       "2         309.203211  \n",
       "3         324.975573  \n",
       "4         334.305725  \n",
       "..               ...  \n",
       "995       260.118802  \n",
       "996       258.581072  \n",
       "997       258.087367  \n",
       "998       254.746498  \n",
       "999       250.543854  \n",
       "\n",
       "[1000 rows x 7 columns]"
      ]
     },
     "execution_count": 74,
     "metadata": {},
     "output_type": "execute_result"
    }
   ],
   "source": [
    "data"
   ]
  },
  {
   "cell_type": "code",
   "execution_count": 75,
   "metadata": {},
   "outputs": [],
   "source": [
    "from sklearn.model_selection import train_test_split"
   ]
  },
  {
   "cell_type": "code",
   "execution_count": 81,
   "metadata": {},
   "outputs": [],
   "source": [
    "X_train,X_test,y_train,y_test=train_test_split(data.drop(['ACenergyPerYear'],1),data['ACenergyPerYear'],test_size=0.3)"
   ]
  },
  {
   "cell_type": "code",
   "execution_count": 82,
   "metadata": {},
   "outputs": [],
   "source": [
    "from sklearn import svm"
   ]
  },
  {
   "cell_type": "code",
   "execution_count": 83,
   "metadata": {},
   "outputs": [],
   "source": [
    "clf=svm.SVC(kernel='linear')"
   ]
  },
  {
   "cell_type": "code",
   "execution_count": 84,
   "metadata": {},
   "outputs": [
    {
     "ename": "ValueError",
     "evalue": "Unknown label type: 'continuous'",
     "output_type": "error",
     "traceback": [
      "\u001b[1;31m---------------------------------------------------------------------------\u001b[0m",
      "\u001b[1;31mValueError\u001b[0m                                Traceback (most recent call last)",
      "\u001b[1;32m<ipython-input-84-86937c1966f0>\u001b[0m in \u001b[0;36m<module>\u001b[1;34m\u001b[0m\n\u001b[1;32m----> 1\u001b[1;33m \u001b[0mclf\u001b[0m\u001b[1;33m.\u001b[0m\u001b[0mfit\u001b[0m\u001b[1;33m(\u001b[0m\u001b[0mX_train\u001b[0m\u001b[1;33m,\u001b[0m\u001b[0my_train\u001b[0m\u001b[1;33m)\u001b[0m\u001b[1;33m\u001b[0m\u001b[1;33m\u001b[0m\u001b[0m\n\u001b[0m",
      "\u001b[1;32m~\\anaconda3\\lib\\site-packages\\sklearn\\svm\\_base.py\u001b[0m in \u001b[0;36mfit\u001b[1;34m(self, X, y, sample_weight)\u001b[0m\n\u001b[0;32m    162\u001b[0m                                        accept_large_sparse=False)\n\u001b[0;32m    163\u001b[0m \u001b[1;33m\u001b[0m\u001b[0m\n\u001b[1;32m--> 164\u001b[1;33m         \u001b[0my\u001b[0m \u001b[1;33m=\u001b[0m \u001b[0mself\u001b[0m\u001b[1;33m.\u001b[0m\u001b[0m_validate_targets\u001b[0m\u001b[1;33m(\u001b[0m\u001b[0my\u001b[0m\u001b[1;33m)\u001b[0m\u001b[1;33m\u001b[0m\u001b[1;33m\u001b[0m\u001b[0m\n\u001b[0m\u001b[0;32m    165\u001b[0m \u001b[1;33m\u001b[0m\u001b[0m\n\u001b[0;32m    166\u001b[0m         sample_weight = np.asarray([]\n",
      "\u001b[1;32m~\\anaconda3\\lib\\site-packages\\sklearn\\svm\\_base.py\u001b[0m in \u001b[0;36m_validate_targets\u001b[1;34m(self, y)\u001b[0m\n\u001b[0;32m    542\u001b[0m     \u001b[1;32mdef\u001b[0m \u001b[0m_validate_targets\u001b[0m\u001b[1;33m(\u001b[0m\u001b[0mself\u001b[0m\u001b[1;33m,\u001b[0m \u001b[0my\u001b[0m\u001b[1;33m)\u001b[0m\u001b[1;33m:\u001b[0m\u001b[1;33m\u001b[0m\u001b[1;33m\u001b[0m\u001b[0m\n\u001b[0;32m    543\u001b[0m         \u001b[0my_\u001b[0m \u001b[1;33m=\u001b[0m \u001b[0mcolumn_or_1d\u001b[0m\u001b[1;33m(\u001b[0m\u001b[0my\u001b[0m\u001b[1;33m,\u001b[0m \u001b[0mwarn\u001b[0m\u001b[1;33m=\u001b[0m\u001b[1;32mTrue\u001b[0m\u001b[1;33m)\u001b[0m\u001b[1;33m\u001b[0m\u001b[1;33m\u001b[0m\u001b[0m\n\u001b[1;32m--> 544\u001b[1;33m         \u001b[0mcheck_classification_targets\u001b[0m\u001b[1;33m(\u001b[0m\u001b[0my\u001b[0m\u001b[1;33m)\u001b[0m\u001b[1;33m\u001b[0m\u001b[1;33m\u001b[0m\u001b[0m\n\u001b[0m\u001b[0;32m    545\u001b[0m         \u001b[0mcls\u001b[0m\u001b[1;33m,\u001b[0m \u001b[0my\u001b[0m \u001b[1;33m=\u001b[0m \u001b[0mnp\u001b[0m\u001b[1;33m.\u001b[0m\u001b[0munique\u001b[0m\u001b[1;33m(\u001b[0m\u001b[0my_\u001b[0m\u001b[1;33m,\u001b[0m \u001b[0mreturn_inverse\u001b[0m\u001b[1;33m=\u001b[0m\u001b[1;32mTrue\u001b[0m\u001b[1;33m)\u001b[0m\u001b[1;33m\u001b[0m\u001b[1;33m\u001b[0m\u001b[0m\n\u001b[0;32m    546\u001b[0m         self.class_weight_ = compute_class_weight(self.class_weight,\n",
      "\u001b[1;32m~\\anaconda3\\lib\\site-packages\\sklearn\\utils\\multiclass.py\u001b[0m in \u001b[0;36mcheck_classification_targets\u001b[1;34m(y)\u001b[0m\n\u001b[0;32m    170\u001b[0m     if y_type not in ['binary', 'multiclass', 'multiclass-multioutput',\n\u001b[0;32m    171\u001b[0m                       'multilabel-indicator', 'multilabel-sequences']:\n\u001b[1;32m--> 172\u001b[1;33m         \u001b[1;32mraise\u001b[0m \u001b[0mValueError\u001b[0m\u001b[1;33m(\u001b[0m\u001b[1;34m\"Unknown label type: %r\"\u001b[0m \u001b[1;33m%\u001b[0m \u001b[0my_type\u001b[0m\u001b[1;33m)\u001b[0m\u001b[1;33m\u001b[0m\u001b[1;33m\u001b[0m\u001b[0m\n\u001b[0m\u001b[0;32m    173\u001b[0m \u001b[1;33m\u001b[0m\u001b[0m\n\u001b[0;32m    174\u001b[0m \u001b[1;33m\u001b[0m\u001b[0m\n",
      "\u001b[1;31mValueError\u001b[0m: Unknown label type: 'continuous'"
     ]
    }
   ],
   "source": [
    "clf.fit(X_train,y_train)"
   ]
  },
  {
   "cell_type": "code",
   "execution_count": null,
   "metadata": {},
   "outputs": [],
   "source": []
  }
 ],
 "metadata": {
  "kernelspec": {
   "display_name": "Python 3",
   "language": "python",
   "name": "python3"
  },
  "language_info": {
   "codemirror_mode": {
    "name": "ipython",
    "version": 3
   },
   "file_extension": ".py",
   "mimetype": "text/x-python",
   "name": "python",
   "nbconvert_exporter": "python",
   "pygments_lexer": "ipython3",
   "version": "3.8.5"
  }
 },
 "nbformat": 4,
 "nbformat_minor": 4
}
